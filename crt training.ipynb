{
 "cells": [
  {
   "cell_type": "code",
   "execution_count": 8,
   "id": "7166b424",
   "metadata": {},
   "outputs": [
    {
     "name": "stdout",
     "output_type": "stream",
     "text": [
      "<__main__.Node object at 0x000001F0B18FE3D0>\n",
      "<__main__.Node object at 0x000001F0B18FE040>\n",
      "<__main__.Node object at 0x000001F0B18FEC10>\n"
     ]
    }
   ],
   "source": [
    "class Node:\n",
    "    def __init__(self,dataval=None):\n",
    "        self.dataval=dataval\n",
    "        self.nexval=None\n",
    "class Slinkedlist:\n",
    "    def __init__(self):\n",
    "        self.headval=None\n",
    "    def printval(self):\n",
    "        printval=self.headval\n",
    "        while printval is not None:\n",
    "            print(printval,dataval)\n",
    "            printval=printval.nextval\n",
    "list1=Slinkedlist()\n",
    "list1.headval=Node(\"mon\")\n",
    "e2=Node(\"tue\")\n",
    "e3=Node(\"wed\")\n",
    "list1.headval.nextval=e2\n",
    "e2.nextval=e3\n",
    "print(list1.headval)\n",
    "print(e2)\n",
    "print(e3)\n",
    "#list1.printval(list1.headval)\n",
    "#list1.printval(e2)\n",
    "        "
   ]
  },
  {
   "cell_type": "code",
   "execution_count": 9,
   "id": "9aeb2865",
   "metadata": {},
   "outputs": [
    {
     "ename": "IndentationError",
     "evalue": "expected an indented block (Temp/ipykernel_10468/388091906.py, line 3)",
     "output_type": "error",
     "traceback": [
      "\u001b[1;36m  File \u001b[1;32m\"C:\\Users\\DELL\\AppData\\Local\\Temp/ipykernel_10468/388091906.py\"\u001b[1;36m, line \u001b[1;32m3\u001b[0m\n\u001b[1;33m    def __init__(self):\u001b[0m\n\u001b[1;37m    ^\u001b[0m\n\u001b[1;31mIndentationError\u001b[0m\u001b[1;31m:\u001b[0m expected an indented block\n"
     ]
    }
   ],
   "source": [
    "class Stack:\n",
    "\n",
    "def __init__(self):\n",
    "\n",
    "self.stack = []\n",
    "\n",
    "def add(self, dataval):\n",
    "\n",
    "if dataval not in self.stack:\n",
    "\n",
    "self.stack.append(dataval)\n",
    "\n",
    "return True\n",
    "\n",
    "else:\n",
    "\n",
    "return False\n",
    "\n",
    "def peek(self):\n",
    "\n",
    "return self.stack[-1]\n",
    "\n",
    "\n",
    " \n",
    "\n",
    "s= Stack()\n",
    "\n",
    "s.add(10)\n",
    "\n",
    "s.add(20)\n",
    "\n",
    "s.peek()\n",
    "\n",
    "print(s.peek())\n",
    "\n",
    "s.add(30)\n",
    "\n",
    "s.add(40)\n",
    "\n",
    "print(s.peek())"
   ]
  },
  {
   "cell_type": "code",
   "execution_count": 15,
   "id": "5edf9864",
   "metadata": {},
   "outputs": [
    {
     "name": "stdout",
     "output_type": "stream",
     "text": [
      "peek 20\n",
      "peek 40\n",
      "40\n",
      "peek 30\n",
      "30\n"
     ]
    }
   ],
   "source": [
    "class Stack:\n",
    "    def __init__(self):\n",
    "        self.stack = []\n",
    "\n",
    " \n",
    "\n",
    "    def add(self, dataval):\n",
    "        if dataval not in self.stack:\n",
    "            self.stack.append(dataval)\n",
    "            return True\n",
    "        else:\n",
    "            return False\n",
    "    def remove(self):\n",
    "        if len(self.stack) <= 0:\n",
    "            return (\"No element in the Stack\")\n",
    "        else:\n",
    "            return self.stack.pop()\n",
    "    def peek(self):\n",
    "        return self.stack[-1]\n",
    "s=Stack()\n",
    "s.add(10)\n",
    "s.add(20)\n",
    "print(\"peek\",s.peek())\n",
    "s.add(30)\n",
    "s.add(40)\n",
    "print(\"peek\",s.peek())\n",
    "print(s.remove())\n",
    "print(\"peek\",s.peek())\n",
    "print(s.remove())"
   ]
  },
  {
   "cell_type": "code",
   "execution_count": 27,
   "id": "5aedb209",
   "metadata": {},
   "outputs": [
    {
     "name": "stdout",
     "output_type": "stream",
     "text": [
      "abcd\n",
      "bcde\n"
     ]
    }
   ],
   "source": [
    "s=input()\n",
    "c=[]\n",
    "for i in range(len(s)):\n",
    "    c.append(chr(ord(s[i])+1))\n",
    "print(''.join(c))"
   ]
  },
  {
   "cell_type": "code",
   "execution_count": 32,
   "id": "6f645817",
   "metadata": {},
   "outputs": [
    {
     "name": "stdout",
     "output_type": "stream",
     "text": [
      "A b C d\n",
      "a B 98 99\n"
     ]
    }
   ],
   "source": [
    "l=list(map(str,input().split()))\n",
    "l1=[]\n",
    "for i in range(len(l)):\n",
    "    if l[i]==\"A\":\n",
    "        l1.append(chr(ord(l[i])+32))\n",
    "    elif l[i]==\"b\":\n",
    "        l1.append(chr(ord(l[i])-32))\n",
    "    elif l[i]==\"C\":\n",
    "        l1.append(ord(l[i])+31)\n",
    "    else:\n",
    "        l1.append(ord(l[i])-1)\n",
    "print(*l1)"
   ]
  },
  {
   "cell_type": "code",
   "execution_count": 33,
   "id": "02f05351",
   "metadata": {},
   "outputs": [
    {
     "name": "stdout",
     "output_type": "stream",
     "text": [
      "A b C d\n",
      "a B 98 99 "
     ]
    }
   ],
   "source": [
    "l=input().split()\n",
    "for i in range(len(l)):\n",
    "    if i>len(l)//2-1:\n",
    "        print(ord(l[i].lower())-1,end=' ')\n",
    "    else:\n",
    "        if l[i].isupper() : \n",
    "            print(l[i].lower(),end=' ') \n",
    "        else: print(l[i].upper(),end=' ')"
   ]
  },
  {
   "cell_type": "code",
   "execution_count": 34,
   "id": "5d3e9399",
   "metadata": {},
   "outputs": [
    {
     "name": "stdout",
     "output_type": "stream",
     "text": [
      "A b C d\n",
      "a B 98 99 "
     ]
    }
   ],
   "source": [
    "l=list(map(str,input().split()))\n",
    "for i in range(len(l)):\n",
    "    if i>len(l)//2-1:\n",
    "        print(ord(l[i].lower())-1,end=' ')\n",
    "    else:\n",
    "        if l[i].isupper():\n",
    "            print(l[i].lower(),end=' ')\n",
    "        else:\n",
    "            print(l[i].upper(),end=' ')"
   ]
  },
  {
   "cell_type": "code",
   "execution_count": 42,
   "id": "75e355fd",
   "metadata": {},
   "outputs": [
    {
     "name": "stdout",
     "output_type": "stream",
     "text": [
      "1 8 0 1\n",
      "8 0 1 1\n"
     ]
    }
   ],
   "source": [
    "l=input().split()\n",
    "print(*l[1:]+[l[0]])\n"
   ]
  },
  {
   "cell_type": "code",
   "execution_count": 49,
   "id": "de0091d5",
   "metadata": {},
   "outputs": [
    {
     "name": "stdout",
     "output_type": "stream",
     "text": [
      "babad\n",
      "['b'] ['b', 'a'] ['b', 'a', 'b'] ['b', 'a', 'b', 'a'] ['b', 'a', 'b', 'a', 'd'] ['a'] ['a', 'b'] ['a', 'b', 'a'] ['a', 'b', 'a', 'd'] ['b'] ['b', 'a'] ['b', 'a', 'd'] ['a'] ['a', 'd'] ['d']\n",
      "b\n"
     ]
    },
    {
     "data": {
      "text/plain": [
       "'b'"
      ]
     },
     "execution_count": 49,
     "metadata": {},
     "output_type": "execute_result"
    }
   ],
   "source": [
    "from itertools import combinations\n",
    "class Solution(object):\n",
    "    def longestPalindrome(self, s):\n",
    "        \"\"\"\n",
    "        :type s: str\n",
    "        :rtype: str\n",
    "        \"\"\"\n",
    "        t=list(s)\n",
    "        r=[t[x:y] for x,y in combinations(range(len(t)+1),2)]\n",
    "        print(*r)\n",
    "        for i in r:\n",
    "            k=\"\".join(i)\n",
    "            print(k)\n",
    "            if k==k[::-1]:\n",
    "                return k\n",
    "ob=Solution()\n",
    "s=input()\n",
    "\n",
    "ob.longestPalindrome(s)"
   ]
  },
  {
   "cell_type": "code",
   "execution_count": 10,
   "id": "a2622c2d",
   "metadata": {},
   "outputs": [
    {
     "name": "stdout",
     "output_type": "stream",
     "text": [
      "3\n",
      "abc\n",
      "a\n",
      "b\n",
      "c\n",
      "abcd\n",
      "a\n",
      "b\n",
      "c\n",
      "d\n",
      "bca\n",
      "b\n",
      "c\n",
      "a\n"
     ]
    }
   ],
   "source": [
    "def generate(curr_str):\n",
    "    if(len(curr_str)==1):\n",
    "        return set(curr_str)\n",
    "    curr_perms=set()\n",
    "    for i in range(len(curr_str)):\n",
    "        prefix=curr_str[i]\n",
    "        remaining=curr_str[:i]+curr_str[i+1:]\n",
    "        other_perms=generate(remaining)\n",
    "    for other in other_perms:\n",
    "        curr_perms.add(prefix+other)\n",
    "    return curr_perms\n",
    "n=int(input())\n",
    "for i in range(n):\n",
    "    s=input()\n",
    "    ans=generate(s)\n",
    "    ans=list(ans)\n",
    "    ans.sort()\n",
    "    for i in s:\n",
    "        print(i)"
   ]
  },
  {
   "cell_type": "code",
   "execution_count": 16,
   "id": "02580dc3",
   "metadata": {},
   "outputs": [
    {
     "name": "stdout",
     "output_type": "stream",
     "text": [
      "A\n",
      "B\n",
      "C\n",
      "D\n",
      "10\n",
      "20\n",
      "30\n",
      "<__main__.Graph object at 0x0000029CC763E4F0>\n",
      "<__main__.Graph object at 0x0000029CC763E1F0>\n",
      "<__main__.Graph object at 0x0000029CC763E1C0>\n",
      "<__main__.Graph object at 0x0000029CC764DA90>\n",
      "<__main__.Graph object at 0x0000029CC763E1F0>\n",
      "<__main__.Graph object at 0x0000029CC763E1C0>\n",
      "<__main__.Graph object at 0x0000029CC764DA90>\n"
     ]
    }
   ],
   "source": [
    "class Graph:\n",
    "    def __init__(self,data):\n",
    "        self.data=data\n",
    "        self.left=None\n",
    "        self.right=None\n",
    "        self.top=None\n",
    "        self.down=None\n",
    "        self.ldiagonal=None\n",
    "        self.rdiagonal=None\n",
    "        print(data)\n",
    "g=Graph('A')\n",
    "#the above code is for creating a node\n",
    "g.down=Graph('B')\n",
    "g.right=Graph('C')\n",
    "g.rdiagonal=Graph('D')\n",
    "g.down.data=Graph(10)\n",
    "g.right.data=Graph(20)\n",
    "g.rdiagonal.data=Graph(30)\n",
    "print(g)\n",
    "print(g.down)\n",
    "print(g.right)\n",
    "print(g.rdiagonal)\n",
    "print(g.down)\n",
    "print(g.right)\n",
    "print(g.rdiagonal)"
   ]
  },
  {
   "cell_type": "code",
   "execution_count": null,
   "id": "43125faf",
   "metadata": {},
   "outputs": [],
   "source": []
  }
 ],
 "metadata": {
  "kernelspec": {
   "display_name": "Python 3 (ipykernel)",
   "language": "python",
   "name": "python3"
  },
  "language_info": {
   "codemirror_mode": {
    "name": "ipython",
    "version": 3
   },
   "file_extension": ".py",
   "mimetype": "text/x-python",
   "name": "python",
   "nbconvert_exporter": "python",
   "pygments_lexer": "ipython3",
   "version": "3.9.7"
  }
 },
 "nbformat": 4,
 "nbformat_minor": 5
}
