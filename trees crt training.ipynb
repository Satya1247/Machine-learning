{
 "cells": [
  {
   "cell_type": "code",
   "execution_count": 1,
   "id": "50946a83",
   "metadata": {},
   "outputs": [
    {
     "name": "stdout",
     "output_type": "stream",
     "text": [
      "10\n",
      "34\n",
      "89\n",
      "45\n",
      "50\n"
     ]
    }
   ],
   "source": [
    "class Node:\n",
    "    def __init__(self,data):\n",
    "        self.left=None\n",
    "        self.right=None\n",
    "        self.data=data\n",
    "        print(data)\n",
    "root=Node(10)\n",
    "root.left=Node(34)\n",
    "root.right=Node(89)\n",
    "root.left.left=Node(45)\n",
    "root.left.right=Node(50)"
   ]
  },
  {
   "cell_type": "code",
   "execution_count": 5,
   "id": "985273aa",
   "metadata": {},
   "outputs": [
    {
     "name": "stdout",
     "output_type": "stream",
     "text": [
      "10\n",
      "5\n",
      "12\n",
      "6\n",
      "7\n"
     ]
    }
   ],
   "source": [
    "class node:\n",
    "    def __init__(self,data):\n",
    "        self.left=None\n",
    "        self.right=None\n",
    "        self.data=data\n",
    "        print(data)\n",
    "Root =node(10)\n",
    "Root.left=node(5)\n",
    "Root.right=node(12)\n",
    "Root.left.right= None\n",
    "Root.left.left=node(6)\n",
    "Root.right.left=node(7)\n",
    "Root.right.left=None"
   ]
  },
  {
   "cell_type": "code",
   "execution_count": 7,
   "id": "135f6dc9",
   "metadata": {},
   "outputs": [
    {
     "name": "stdout",
     "output_type": "stream",
     "text": [
      "1\n",
      "3\n"
     ]
    },
    {
     "data": {
      "text/plain": [
       "12"
      ]
     },
     "execution_count": 7,
     "metadata": {},
     "output_type": "execute_result"
    }
   ],
   "source": [
    "class Solution:\n",
    "    # @param A : integer\n",
    "    # @param B : integer\n",
    "     # @return an long\n",
    "    def solve(self, A, B):\n",
    "        self.A=A \n",
    "        self.B=B\n",
    "        for i in range(B):\n",
    "            if A%2==0:\n",
    "                A=A//2\n",
    "            else:\n",
    "                A=3*(A+1)\n",
    "        return A \n",
    "obj=Solution()\n",
    "A=int(input())\n",
    "B=int(input())\n",
    "obj.solve(A,B)"
   ]
  },
  {
   "cell_type": "code",
   "execution_count": 45,
   "id": "99567aff",
   "metadata": {},
   "outputs": [
    {
     "data": {
      "text/plain": [
       "0.0"
      ]
     },
     "execution_count": 45,
     "metadata": {},
     "output_type": "execute_result"
    }
   ],
   "source": [
    "0/10"
   ]
  },
  {
   "cell_type": "code",
   "execution_count": 43,
   "id": "a07419bc",
   "metadata": {},
   "outputs": [
    {
     "data": {
      "text/plain": [
       "1"
      ]
     },
     "execution_count": 43,
     "metadata": {},
     "output_type": "execute_result"
    }
   ],
   "source": [
    "1%10"
   ]
  },
  {
   "cell_type": "code",
   "execution_count": 47,
   "id": "e850c573",
   "metadata": {},
   "outputs": [
    {
     "data": {
      "text/plain": [
       "8"
      ]
     },
     "execution_count": 47,
     "metadata": {},
     "output_type": "execute_result"
    }
   ],
   "source": [
    "80//10"
   ]
  },
  {
   "cell_type": "code",
   "execution_count": 48,
   "id": "96e1b353",
   "metadata": {},
   "outputs": [
    {
     "data": {
      "text/plain": [
       "9"
      ]
     },
     "execution_count": 48,
     "metadata": {},
     "output_type": "execute_result"
    }
   ],
   "source": [
    "90//10"
   ]
  },
  {
   "cell_type": "code",
   "execution_count": 49,
   "id": "587a14a7",
   "metadata": {},
   "outputs": [
    {
     "data": {
      "text/plain": [
       "1"
      ]
     },
     "execution_count": 49,
     "metadata": {},
     "output_type": "execute_result"
    }
   ],
   "source": [
    "1%10"
   ]
  },
  {
   "cell_type": "code",
   "execution_count": 50,
   "id": "75e5fa11",
   "metadata": {},
   "outputs": [
    {
     "data": {
      "text/plain": [
       "10.0"
      ]
     },
     "execution_count": 50,
     "metadata": {},
     "output_type": "execute_result"
    }
   ],
   "source": [
    "100/10"
   ]
  },
  {
   "cell_type": "code",
   "execution_count": 57,
   "id": "aa5ba1ac",
   "metadata": {},
   "outputs": [
    {
     "data": {
      "text/plain": [
       "2"
      ]
     },
     "execution_count": 57,
     "metadata": {},
     "output_type": "execute_result"
    }
   ],
   "source": [
    "42%10"
   ]
  },
  {
   "cell_type": "code",
   "execution_count": 56,
   "id": "5e3c93f6",
   "metadata": {},
   "outputs": [
    {
     "data": {
      "text/plain": [
       "5"
      ]
     },
     "execution_count": 56,
     "metadata": {},
     "output_type": "execute_result"
    }
   ],
   "source": [
    "50//10"
   ]
  },
  {
   "cell_type": "code",
   "execution_count": 78,
   "id": "53b69ea6",
   "metadata": {},
   "outputs": [
    {
     "name": "stdout",
     "output_type": "stream",
     "text": [
      "101010010101\n"
     ]
    }
   ],
   "source": [
    "a=16\n",
    "s=\"\"\n",
    "if(a%4==0):\n",
    "    for i in range(a//4-1):\n",
    "        s+=\"1\"\n",
    "        s+=\"0\"\n",
    "    for i in range(a//4-1,a//4+2):\n",
    "        s+=\"01\"\n",
    "    \n",
    "        \n",
    "print(s)"
   ]
  },
  {
   "cell_type": "code",
   "execution_count": 101,
   "id": "cda74418",
   "metadata": {},
   "outputs": [
    {
     "name": "stdout",
     "output_type": "stream",
     "text": [
      "16\n",
      "101010101010\n",
      "10101010101001010101010101\n"
     ]
    }
   ],
   "source": [
    "a=int(input())\n",
    "s=\"\"\n",
    "for i in range(1,a//2-1):\n",
    "    s+=\"1\"\n",
    "    s+=\"0\"\n",
    "print(s)\n",
    "for i in range(a//2+1,a):\n",
    "    s+=\"0\"\n",
    "    s+=\"1\"\n",
    "print(s)"
   ]
  },
  {
   "cell_type": "code",
   "execution_count": 87,
   "id": "7fe7f31a",
   "metadata": {},
   "outputs": [
    {
     "name": "stdout",
     "output_type": "stream",
     "text": [
      "10\n"
     ]
    }
   ],
   "source": [
    "s=\"\"\n",
    "for i in range(3,4):\n",
    "    s+=\"1\"\n",
    "    s+=\"0\"\n",
    "print(s)"
   ]
  },
  {
   "cell_type": "code",
   "execution_count": 105,
   "id": "9d92c287",
   "metadata": {},
   "outputs": [
    {
     "name": "stdout",
     "output_type": "stream",
     "text": [
      "1\n",
      "8\n",
      "10000001\n"
     ]
    }
   ],
   "source": [
    "for t in range(int(input())):\n",
    "    n = int(input())\n",
    "    ans = ''\n",
    "    if n%2 == 0:\n",
    "        ans = '1'\n",
    "        for i in range(0,n-2):\n",
    "            ans += '0'\n",
    "        ans += '1'\n",
    "    else:\n",
    "        ans = ''\n",
    "        for i in range(0,int(n/2)):\n",
    "            ans += '0'\n",
    "        ans += '1'\n",
    "        for i in range(0,int(n/2)):\n",
    "            ans += '0'\n",
    "    print(ans)"
   ]
  },
  {
   "cell_type": "code",
   "execution_count": 127,
   "id": "4476b245",
   "metadata": {},
   "outputs": [
    {
     "name": "stdout",
     "output_type": "stream",
     "text": [
      "2\n",
      "6\n",
      "011110\n",
      "3\n",
      "110\n"
     ]
    }
   ],
   "source": [
    "t=int(input())\n",
    "for i in range(t):\n",
    "    s=\"\"\n",
    "    n=int(input())\n",
    "    if(n%2==0):\n",
    "        s+=\"0\"\n",
    "        for i in range(1,n-1):\n",
    "            s+=\"1\"\n",
    "        s+=\"0\"\n",
    "    else:\n",
    "        for i in range(n//2+1):\n",
    "            s+=\"1\"\n",
    "        s+=\"0\"\n",
    "        for i in range(n//2+1,n-1):\n",
    "            s+=\"1\"\n",
    "    print(s)\n",
    "    "
   ]
  },
  {
   "cell_type": "code",
   "execution_count": null,
   "id": "0c177327",
   "metadata": {},
   "outputs": [],
   "source": []
  }
 ],
 "metadata": {
  "kernelspec": {
   "display_name": "Python 3 (ipykernel)",
   "language": "python",
   "name": "python3"
  },
  "language_info": {
   "codemirror_mode": {
    "name": "ipython",
    "version": 3
   },
   "file_extension": ".py",
   "mimetype": "text/x-python",
   "name": "python",
   "nbconvert_exporter": "python",
   "pygments_lexer": "ipython3",
   "version": "3.9.7"
  }
 },
 "nbformat": 4,
 "nbformat_minor": 5
}
