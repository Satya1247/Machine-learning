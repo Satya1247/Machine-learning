{
 "cells": [
  {
   "cell_type": "code",
   "execution_count": 1,
   "id": "bd1ade5b",
   "metadata": {},
   "outputs": [],
   "source": [
    "a=[11,12,13,14,15,16,17,18,19]"
   ]
  },
  {
   "cell_type": "code",
   "execution_count": 2,
   "id": "6fb18324",
   "metadata": {},
   "outputs": [],
   "source": [
    "from sklearn.model_selection import KFold"
   ]
  },
  {
   "cell_type": "code",
   "execution_count": 7,
   "id": "25ae910d",
   "metadata": {},
   "outputs": [],
   "source": [
    "k=KFold(n_splits=4)"
   ]
  },
  {
   "cell_type": "code",
   "execution_count": 8,
   "id": "e102a85c",
   "metadata": {},
   "outputs": [
    {
     "data": {
      "text/plain": [
       "KFold(n_splits=4, random_state=None, shuffle=False)"
      ]
     },
     "execution_count": 8,
     "metadata": {},
     "output_type": "execute_result"
    }
   ],
   "source": [
    "k"
   ]
  },
  {
   "cell_type": "code",
   "execution_count": 9,
   "id": "1e78299c",
   "metadata": {},
   "outputs": [
    {
     "name": "stdout",
     "output_type": "stream",
     "text": [
      "[3 4 5 6 7 8] [0 1 2]\n",
      "[0 1 2 5 6 7 8] [3 4]\n",
      "[0 1 2 3 4 7 8] [5 6]\n",
      "[0 1 2 3 4 5 6] [7 8]\n"
     ]
    }
   ],
   "source": [
    "for train,test in k.split(a):\n",
    "    print(train,test)"
   ]
  },
  {
   "cell_type": "code",
   "execution_count": 10,
   "id": "17267e82",
   "metadata": {},
   "outputs": [],
   "source": [
    "##we dont need to explicitily \n",
    "#we have cross validation"
   ]
  },
  {
   "cell_type": "markdown",
   "id": "9b4e9cd4",
   "metadata": {},
   "source": [
    "# cross validation"
   ]
  },
  {
   "cell_type": "code",
   "execution_count": 11,
   "id": "18b89a1a",
   "metadata": {},
   "outputs": [],
   "source": [
    "from sklearn.datasets import load_iris"
   ]
  },
  {
   "cell_type": "code",
   "execution_count": 12,
   "id": "26493ed3",
   "metadata": {},
   "outputs": [],
   "source": [
    "i=load_iris()"
   ]
  },
  {
   "cell_type": "code",
   "execution_count": 13,
   "id": "cd13cdfe",
   "metadata": {},
   "outputs": [],
   "source": [
    "x=i.data\n",
    "y=i.target"
   ]
  },
  {
   "cell_type": "code",
   "execution_count": 14,
   "id": "9eb8b4e0",
   "metadata": {},
   "outputs": [
    {
     "data": {
      "text/plain": [
       "(150, 4)"
      ]
     },
     "execution_count": 14,
     "metadata": {},
     "output_type": "execute_result"
    }
   ],
   "source": [
    "x.shape"
   ]
  },
  {
   "cell_type": "code",
   "execution_count": 15,
   "id": "af764b7d",
   "metadata": {},
   "outputs": [
    {
     "data": {
      "text/plain": [
       "(150,)"
      ]
     },
     "execution_count": 15,
     "metadata": {},
     "output_type": "execute_result"
    }
   ],
   "source": [
    "y.shape"
   ]
  },
  {
   "cell_type": "code",
   "execution_count": 17,
   "id": "8be7326d",
   "metadata": {},
   "outputs": [],
   "source": [
    "from sklearn.model_selection import cross_val_score\n",
    "from sklearn.svm import SVC"
   ]
  },
  {
   "cell_type": "code",
   "execution_count": 19,
   "id": "d0438f76",
   "metadata": {},
   "outputs": [
    {
     "data": {
      "text/plain": [
       "array([0.96666667, 0.96666667, 0.96666667, 0.93333333, 1.        ])"
      ]
     },
     "execution_count": 19,
     "metadata": {},
     "output_type": "execute_result"
    }
   ],
   "source": [
    "cross_val_score(SVC(),x,y,cv=5)"
   ]
  },
  {
   "cell_type": "code",
   "execution_count": 20,
   "id": "9e8f8245",
   "metadata": {},
   "outputs": [],
   "source": [
    "#it splits the data into 5 parts\n",
    "#if we have 150 dataset first part testing"
   ]
  },
  {
   "cell_type": "code",
   "execution_count": 21,
   "id": "37c47524",
   "metadata": {},
   "outputs": [
    {
     "data": {
      "text/plain": [
       "array([0.96, 0.98, 0.94])"
      ]
     },
     "execution_count": 21,
     "metadata": {},
     "output_type": "execute_result"
    }
   ],
   "source": [
    "cross_val_score(SVC(),x,y,cv=3)"
   ]
  },
  {
   "cell_type": "code",
   "execution_count": 22,
   "id": "1d2e560e",
   "metadata": {},
   "outputs": [],
   "source": [
    "#hyperparameter tuning"
   ]
  },
  {
   "cell_type": "code",
   "execution_count": 23,
   "id": "a13fcbbf",
   "metadata": {},
   "outputs": [],
   "source": [
    "model=SVC(kernel=\"linear\")"
   ]
  },
  {
   "cell_type": "code",
   "execution_count": 24,
   "id": "d217bf13",
   "metadata": {},
   "outputs": [
    {
     "data": {
      "text/plain": [
       "((150, 4), (150,))"
      ]
     },
     "execution_count": 24,
     "metadata": {},
     "output_type": "execute_result"
    }
   ],
   "source": [
    "x.shape,y.shape"
   ]
  },
  {
   "cell_type": "code",
   "execution_count": 25,
   "id": "fec58b39",
   "metadata": {},
   "outputs": [],
   "source": [
    "from sklearn.model_selection import GridSearchCV"
   ]
  },
  {
   "cell_type": "code",
   "execution_count": 26,
   "id": "84e65f66",
   "metadata": {},
   "outputs": [],
   "source": [
    "model=GridSearchCV(SVC(),param_grid={\n",
    "    \"C\":[1,3,5],\n",
    "    \"kernel\":[\"linear\",\"rbf\"],\"gamma\":[\"auto\",\"scale\"]\n",
    "},cv=3)"
   ]
  },
  {
   "cell_type": "code",
   "execution_count": 27,
   "id": "caffaeff",
   "metadata": {},
   "outputs": [
    {
     "data": {
      "text/plain": [
       "GridSearchCV(cv=3, estimator=SVC(),\n",
       "             param_grid={'C': [1, 3, 5], 'gamma': ['auto', 'scale'],\n",
       "                         'kernel': ['linear', 'rbf']})"
      ]
     },
     "execution_count": 27,
     "metadata": {},
     "output_type": "execute_result"
    }
   ],
   "source": [
    "model.fit(x,y)"
   ]
  },
  {
   "cell_type": "code",
   "execution_count": 28,
   "id": "203e2b9a",
   "metadata": {},
   "outputs": [
    {
     "data": {
      "text/plain": [
       "0.9933333333333333"
      ]
     },
     "execution_count": 28,
     "metadata": {},
     "output_type": "execute_result"
    }
   ],
   "source": [
    "model.best_score_"
   ]
  },
  {
   "cell_type": "code",
   "execution_count": 29,
   "id": "ed66d775",
   "metadata": {},
   "outputs": [
    {
     "data": {
      "text/plain": [
       "{'C': 1, 'gamma': 'auto', 'kernel': 'linear'}"
      ]
     },
     "execution_count": 29,
     "metadata": {},
     "output_type": "execute_result"
    }
   ],
   "source": [
    "model.best_params_"
   ]
  },
  {
   "cell_type": "code",
   "execution_count": 30,
   "id": "23428d31",
   "metadata": {},
   "outputs": [
    {
     "data": {
      "text/plain": [
       "{'C': [1, 3, 5], 'kernel': ['linear', 'rbf'], 'gamma': ['auto', 'scale']}"
      ]
     },
     "execution_count": 30,
     "metadata": {},
     "output_type": "execute_result"
    }
   ],
   "source": [
    "model.param_grid"
   ]
  },
  {
   "cell_type": "code",
   "execution_count": 31,
   "id": "0c1417af",
   "metadata": {},
   "outputs": [
    {
     "data": {
      "text/plain": [
       "{'mean_fit_time': array([0.00236154, 0.00110308, 0.        , 0.00266647, 0.        ,\n",
       "        0.00523297, 0.00520658, 0.00518386, 0.        , 0.        ,\n",
       "        0.        , 0.        ]),\n",
       " 'std_fit_time': array([0.00151666, 0.00156   , 0.        , 0.00377096, 0.        ,\n",
       "        0.00740054, 0.00736322, 0.00733108, 0.        , 0.        ,\n",
       "        0.        , 0.        ]),\n",
       " 'mean_score_time': array([0.001906  , 0.00266806, 0.        , 0.0026652 , 0.        ,\n",
       "        0.        , 0.        , 0.        , 0.        , 0.        ,\n",
       "        0.00518425, 0.00523082]),\n",
       " 'std_score_time': array([0.0006314 , 0.00377321, 0.        , 0.00376916, 0.        ,\n",
       "        0.        , 0.        , 0.        , 0.        , 0.        ,\n",
       "        0.00733164, 0.0073975 ]),\n",
       " 'param_C': masked_array(data=[1, 1, 1, 1, 3, 3, 3, 3, 5, 5, 5, 5],\n",
       "              mask=[False, False, False, False, False, False, False, False,\n",
       "                    False, False, False, False],\n",
       "        fill_value='?',\n",
       "             dtype=object),\n",
       " 'param_gamma': masked_array(data=['auto', 'auto', 'scale', 'scale', 'auto', 'auto',\n",
       "                    'scale', 'scale', 'auto', 'auto', 'scale', 'scale'],\n",
       "              mask=[False, False, False, False, False, False, False, False,\n",
       "                    False, False, False, False],\n",
       "        fill_value='?',\n",
       "             dtype=object),\n",
       " 'param_kernel': masked_array(data=['linear', 'rbf', 'linear', 'rbf', 'linear', 'rbf',\n",
       "                    'linear', 'rbf', 'linear', 'rbf', 'linear', 'rbf'],\n",
       "              mask=[False, False, False, False, False, False, False, False,\n",
       "                    False, False, False, False],\n",
       "        fill_value='?',\n",
       "             dtype=object),\n",
       " 'params': [{'C': 1, 'gamma': 'auto', 'kernel': 'linear'},\n",
       "  {'C': 1, 'gamma': 'auto', 'kernel': 'rbf'},\n",
       "  {'C': 1, 'gamma': 'scale', 'kernel': 'linear'},\n",
       "  {'C': 1, 'gamma': 'scale', 'kernel': 'rbf'},\n",
       "  {'C': 3, 'gamma': 'auto', 'kernel': 'linear'},\n",
       "  {'C': 3, 'gamma': 'auto', 'kernel': 'rbf'},\n",
       "  {'C': 3, 'gamma': 'scale', 'kernel': 'linear'},\n",
       "  {'C': 3, 'gamma': 'scale', 'kernel': 'rbf'},\n",
       "  {'C': 5, 'gamma': 'auto', 'kernel': 'linear'},\n",
       "  {'C': 5, 'gamma': 'auto', 'kernel': 'rbf'},\n",
       "  {'C': 5, 'gamma': 'scale', 'kernel': 'linear'},\n",
       "  {'C': 5, 'gamma': 'scale', 'kernel': 'rbf'}],\n",
       " 'split0_test_score': array([1.  , 0.98, 1.  , 0.96, 0.98, 0.98, 0.98, 0.98, 1.  , 0.98, 1.  ,\n",
       "        0.98]),\n",
       " 'split1_test_score': array([1.  , 0.98, 1.  , 0.98, 0.94, 1.  , 0.94, 0.98, 0.94, 0.98, 0.94,\n",
       "        1.  ]),\n",
       " 'split2_test_score': array([0.98, 0.96, 0.98, 0.94, 0.98, 0.94, 0.98, 0.94, 0.98, 0.98, 0.98,\n",
       "        0.96]),\n",
       " 'mean_test_score': array([0.99333333, 0.97333333, 0.99333333, 0.96      , 0.96666667,\n",
       "        0.97333333, 0.96666667, 0.96666667, 0.97333333, 0.98      ,\n",
       "        0.97333333, 0.98      ]),\n",
       " 'std_test_score': array([0.00942809, 0.00942809, 0.00942809, 0.01632993, 0.01885618,\n",
       "        0.02494438, 0.01885618, 0.01885618, 0.02494438, 0.        ,\n",
       "        0.02494438, 0.01632993]),\n",
       " 'rank_test_score': array([ 1,  5,  1, 12,  9,  5,  9,  9,  5,  3,  5,  3])}"
      ]
     },
     "execution_count": 31,
     "metadata": {},
     "output_type": "execute_result"
    }
   ],
   "source": [
    "#cv for splitting the data\n",
    "model.cv_results_"
   ]
  },
  {
   "cell_type": "code",
   "execution_count": null,
   "id": "7d95e421",
   "metadata": {},
   "outputs": [],
   "source": []
  }
 ],
 "metadata": {
  "kernelspec": {
   "display_name": "Python 3 (ipykernel)",
   "language": "python",
   "name": "python3"
  },
  "language_info": {
   "codemirror_mode": {
    "name": "ipython",
    "version": 3
   },
   "file_extension": ".py",
   "mimetype": "text/x-python",
   "name": "python",
   "nbconvert_exporter": "python",
   "pygments_lexer": "ipython3",
   "version": "3.9.7"
  }
 },
 "nbformat": 4,
 "nbformat_minor": 5
}
