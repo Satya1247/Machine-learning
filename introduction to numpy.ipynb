{
  "nbformat": 4,
  "nbformat_minor": 0,
  "metadata": {
    "colab": {
      "provenance": []
    },
    "kernelspec": {
      "name": "python3",
      "display_name": "Python 3"
    },
    "language_info": {
      "name": "python"
    }
  },
  "cells": [
    {
      "cell_type": "code",
      "execution_count": 1,
      "metadata": {
        "colab": {
          "base_uri": "https://localhost:8080/"
        },
        "id": "lMbsaW77eq8a",
        "outputId": "22eedcbc-984c-4ce7-bcd1-48800c8c3041"
      },
      "outputs": [
        {
          "output_type": "execute_result",
          "data": {
            "text/plain": [
              "[2, 3, 4, 5]"
            ]
          },
          "metadata": {},
          "execution_count": 1
        }
      ],
      "source": [
        "#List slicing\n",
        "#list[start:end:step]\n",
        "list=[1,2,3,4,5]\n",
        "list[1:]"
      ]
    },
    {
      "cell_type": "code",
      "source": [
        "list[1:3]"
      ],
      "metadata": {
        "colab": {
          "base_uri": "https://localhost:8080/"
        },
        "id": "bzQkzDIChGjW",
        "outputId": "efef5b01-a6aa-482a-a49c-64af45d6b15d"
      },
      "execution_count": 2,
      "outputs": [
        {
          "output_type": "execute_result",
          "data": {
            "text/plain": [
              "[2, 3]"
            ]
          },
          "metadata": {},
          "execution_count": 2
        }
      ]
    },
    {
      "cell_type": "code",
      "source": [
        "list[1:6:2]"
      ],
      "metadata": {
        "colab": {
          "base_uri": "https://localhost:8080/"
        },
        "id": "c-HnhjW_hTSh",
        "outputId": "6bfeb3cb-3121-4494-de68-0b6002ca8e17"
      },
      "execution_count": 4,
      "outputs": [
        {
          "output_type": "execute_result",
          "data": {
            "text/plain": [
              "[2, 4]"
            ]
          },
          "metadata": {},
          "execution_count": 4
        }
      ]
    },
    {
      "cell_type": "code",
      "source": [
        "#-->reversing the list\n",
        "list[::-1]"
      ],
      "metadata": {
        "colab": {
          "base_uri": "https://localhost:8080/"
        },
        "id": "EBJ0JDFxheJm",
        "outputId": "129b9d0d-da8c-4d52-e65c-6d3827bfc069"
      },
      "execution_count": 5,
      "outputs": [
        {
          "output_type": "execute_result",
          "data": {
            "text/plain": [
              "[5, 4, 3, 2, 1]"
            ]
          },
          "metadata": {},
          "execution_count": 5
        }
      ]
    },
    {
      "cell_type": "code",
      "source": [
        "list[::2]"
      ],
      "metadata": {
        "colab": {
          "base_uri": "https://localhost:8080/"
        },
        "id": "8-0W8E5-h6xO",
        "outputId": "0b59b8c4-50dc-4379-9e70-bfcde83c5593"
      },
      "execution_count": 6,
      "outputs": [
        {
          "output_type": "execute_result",
          "data": {
            "text/plain": [
              "[1, 3, 5]"
            ]
          },
          "metadata": {},
          "execution_count": 6
        }
      ]
    },
    {
      "cell_type": "code",
      "source": [
        "list[1:4]=[10,20,30]\n",
        "list"
      ],
      "metadata": {
        "colab": {
          "base_uri": "https://localhost:8080/"
        },
        "id": "dFmJoj-PiNmf",
        "outputId": "8e383b12-2ae7-4d36-a816-7049f3404213"
      },
      "execution_count": 7,
      "outputs": [
        {
          "output_type": "execute_result",
          "data": {
            "text/plain": [
              "[1, 10, 20, 30, 5]"
            ]
          },
          "metadata": {},
          "execution_count": 7
        }
      ]
    },
    {
      "cell_type": "code",
      "source": [
        "del list[1:3]\n",
        "list"
      ],
      "metadata": {
        "colab": {
          "base_uri": "https://localhost:8080/"
        },
        "id": "9tIx14Eyiku2",
        "outputId": "41150a31-1716-4d56-afb0-72d8058197d2"
      },
      "execution_count": 8,
      "outputs": [
        {
          "output_type": "execute_result",
          "data": {
            "text/plain": [
              "[1, 30, 5]"
            ]
          },
          "metadata": {},
          "execution_count": 8
        }
      ]
    },
    {
      "cell_type": "code",
      "source": [
        "list=[1,2,3]\n",
        "list1=[4,5,6]\n",
        "list+list1"
      ],
      "metadata": {
        "colab": {
          "base_uri": "https://localhost:8080/"
        },
        "id": "UavlKfqYitBr",
        "outputId": "12adbf16-a1f7-4f30-c338-e0d44a5e4852"
      },
      "execution_count": 9,
      "outputs": [
        {
          "output_type": "execute_result",
          "data": {
            "text/plain": [
              "[1, 2, 3, 4, 5, 6]"
            ]
          },
          "metadata": {},
          "execution_count": 9
        }
      ]
    },
    {
      "cell_type": "code",
      "source": [
        "#copying the list\n",
        "list=[1,2,3]\n",
        "secondList=list[:]\n",
        "secondList"
      ],
      "metadata": {
        "colab": {
          "base_uri": "https://localhost:8080/"
        },
        "id": "I-68kjS1i3Nb",
        "outputId": "f17fd359-0f4b-4f37-ec55-1800ee59d7a8"
      },
      "execution_count": 10,
      "outputs": [
        {
          "output_type": "execute_result",
          "data": {
            "text/plain": [
              "[1, 2, 3]"
            ]
          },
          "metadata": {},
          "execution_count": 10
        }
      ]
    },
    {
      "cell_type": "code",
      "source": [
        "#skip every third element from index 1\n",
        "list=[1,2,3,4,5,6,7,8]\n",
        "list[1::3]"
      ],
      "metadata": {
        "colab": {
          "base_uri": "https://localhost:8080/"
        },
        "id": "4lNhP4KYjGYM",
        "outputId": "8fc83650-6415-4b6f-acee-941b8cd17b95"
      },
      "execution_count": 12,
      "outputs": [
        {
          "output_type": "execute_result",
          "data": {
            "text/plain": [
              "[2, 5, 8]"
            ]
          },
          "metadata": {},
          "execution_count": 12
        }
      ]
    },
    {
      "cell_type": "code",
      "source": [
        "s=\"satya\"\n",
        "output_string=\"saTYA\"\n",
        "s[:1]+s[1:2]+s[2:].upper()"
      ],
      "metadata": {
        "colab": {
          "base_uri": "https://localhost:8080/",
          "height": 35
        },
        "id": "-zVUW3usjXfW",
        "outputId": "50aaf94b-0687-4a33-a4b6-c18cd0dcecbd"
      },
      "execution_count": 17,
      "outputs": [
        {
          "output_type": "execute_result",
          "data": {
            "text/plain": [
              "'saTYA'"
            ],
            "application/vnd.google.colaboratory.intrinsic+json": {
              "type": "string"
            }
          },
          "metadata": {},
          "execution_count": 17
        }
      ]
    },
    {
      "cell_type": "code",
      "source": [
        "#dictionaries with slicing\n",
        "student={\n",
        "    \"name\":\"sample\",\n",
        "    \"rollno\":123,\n",
        "    \"subjects\":[\"maths\",\"physics\",\"social\"]\n",
        "}\n",
        "student"
      ],
      "metadata": {
        "colab": {
          "base_uri": "https://localhost:8080/"
        },
        "id": "UWH1CBhCjxo8",
        "outputId": "a1db7f3e-a4e8-46fa-ff6c-5368ea67707f"
      },
      "execution_count": 19,
      "outputs": [
        {
          "output_type": "execute_result",
          "data": {
            "text/plain": [
              "{'name': 'sample', 'rollno': 123, 'subjects': ['maths', 'physics', 'social']}"
            ]
          },
          "metadata": {},
          "execution_count": 19
        }
      ]
    },
    {
      "cell_type": "code",
      "source": [
        "student[\"name\"]"
      ],
      "metadata": {
        "colab": {
          "base_uri": "https://localhost:8080/",
          "height": 35
        },
        "id": "PNc9vgekkr2L",
        "outputId": "bdaec5cf-6dd8-4098-f807-d7b7de6c3553"
      },
      "execution_count": 20,
      "outputs": [
        {
          "output_type": "execute_result",
          "data": {
            "text/plain": [
              "'sample'"
            ],
            "application/vnd.google.colaboratory.intrinsic+json": {
              "type": "string"
            }
          },
          "metadata": {},
          "execution_count": 20
        }
      ]
    },
    {
      "cell_type": "code",
      "source": [
        "student[\"subjects\"]"
      ],
      "metadata": {
        "colab": {
          "base_uri": "https://localhost:8080/"
        },
        "id": "SFma5v3Ukz8Y",
        "outputId": "549f80cc-3657-45cf-ba11-1c8538046db5"
      },
      "execution_count": 21,
      "outputs": [
        {
          "output_type": "execute_result",
          "data": {
            "text/plain": [
              "['maths', 'physics', 'social']"
            ]
          },
          "metadata": {},
          "execution_count": 21
        }
      ]
    },
    {
      "cell_type": "code",
      "source": [
        "student[\"subjects\"][0]"
      ],
      "metadata": {
        "colab": {
          "base_uri": "https://localhost:8080/",
          "height": 35
        },
        "id": "2u6KGEdIk3--",
        "outputId": "9fde24e0-8918-4972-8f6b-3b1713b7c25f"
      },
      "execution_count": 22,
      "outputs": [
        {
          "output_type": "execute_result",
          "data": {
            "text/plain": [
              "'maths'"
            ],
            "application/vnd.google.colaboratory.intrinsic+json": {
              "type": "string"
            }
          },
          "metadata": {},
          "execution_count": 22
        }
      ]
    },
    {
      "cell_type": "code",
      "source": [
        "student[\"subjects\"][::2]"
      ],
      "metadata": {
        "colab": {
          "base_uri": "https://localhost:8080/"
        },
        "id": "-CxGUDYCk9-5",
        "outputId": "c3c8e7ae-644e-409c-f189-44bb0784ae1e"
      },
      "execution_count": 23,
      "outputs": [
        {
          "output_type": "execute_result",
          "data": {
            "text/plain": [
              "['maths', 'social']"
            ]
          },
          "metadata": {},
          "execution_count": 23
        }
      ]
    },
    {
      "cell_type": "code",
      "source": [
        "student.get(\"name\")"
      ],
      "metadata": {
        "colab": {
          "base_uri": "https://localhost:8080/",
          "height": 35
        },
        "id": "mVv6x2ovlJKh",
        "outputId": "053a0ff8-edef-4d3d-ead3-f64b1a16e92b"
      },
      "execution_count": 24,
      "outputs": [
        {
          "output_type": "execute_result",
          "data": {
            "text/plain": [
              "'sample'"
            ],
            "application/vnd.google.colaboratory.intrinsic+json": {
              "type": "string"
            }
          },
          "metadata": {},
          "execution_count": 24
        }
      ]
    },
    {
      "cell_type": "code",
      "source": [
        "student.update({'name': 'sample1', 'rollno': 1234, 'subjects': ['maths', 'physics']})"
      ],
      "metadata": {
        "id": "TxcSor7slSvc"
      },
      "execution_count": 25,
      "outputs": []
    },
    {
      "cell_type": "code",
      "source": [
        "student"
      ],
      "metadata": {
        "colab": {
          "base_uri": "https://localhost:8080/"
        },
        "id": "uK6Vg8mnlfBp",
        "outputId": "2e9998b8-3c87-44b9-e217-51a11b58aaf0"
      },
      "execution_count": 26,
      "outputs": [
        {
          "output_type": "execute_result",
          "data": {
            "text/plain": [
              "{'name': 'sample1', 'rollno': 1234, 'subjects': ['maths', 'physics']}"
            ]
          },
          "metadata": {},
          "execution_count": 26
        }
      ]
    },
    {
      "cell_type": "code",
      "source": [
        "student.keys()"
      ],
      "metadata": {
        "colab": {
          "base_uri": "https://localhost:8080/"
        },
        "id": "wiNFWwgnlgI1",
        "outputId": "07b23f97-b49a-41de-a6dc-18187e0383a7"
      },
      "execution_count": 27,
      "outputs": [
        {
          "output_type": "execute_result",
          "data": {
            "text/plain": [
              "dict_keys(['name', 'rollno', 'subjects'])"
            ]
          },
          "metadata": {},
          "execution_count": 27
        }
      ]
    },
    {
      "cell_type": "code",
      "source": [
        "student.values()"
      ],
      "metadata": {
        "colab": {
          "base_uri": "https://localhost:8080/"
        },
        "id": "txKdTT_1lmZi",
        "outputId": "515a88cd-abb5-49eb-bd64-8e1ce6fa1a39"
      },
      "execution_count": 28,
      "outputs": [
        {
          "output_type": "execute_result",
          "data": {
            "text/plain": [
              "dict_values(['sample1', 1234, ['maths', 'physics']])"
            ]
          },
          "metadata": {},
          "execution_count": 28
        }
      ]
    },
    {
      "cell_type": "code",
      "source": [
        "student.items()"
      ],
      "metadata": {
        "colab": {
          "base_uri": "https://localhost:8080/"
        },
        "id": "KDedpkCHlpXD",
        "outputId": "e93d7ae9-8c33-4827-d39b-d4bc1155a422"
      },
      "execution_count": 30,
      "outputs": [
        {
          "output_type": "execute_result",
          "data": {
            "text/plain": [
              "dict_items([('name', 'sample1'), ('rollno', 1234), ('subjects', ['maths', 'physics'])])"
            ]
          },
          "metadata": {},
          "execution_count": 30
        }
      ]
    },
    {
      "cell_type": "code",
      "source": [
        "s1,s2={1,2,3,4},{5,6,7,8}\n",
        "s2-s1"
      ],
      "metadata": {
        "colab": {
          "base_uri": "https://localhost:8080/"
        },
        "id": "g5JCY33llrc5",
        "outputId": "7424628e-f2e4-4527-e542-c7f8bacefda8"
      },
      "execution_count": 34,
      "outputs": [
        {
          "output_type": "execute_result",
          "data": {
            "text/plain": [
              "{5, 6, 7, 8}"
            ]
          },
          "metadata": {},
          "execution_count": 34
        }
      ]
    },
    {
      "cell_type": "code",
      "source": [
        "s1.union(s2)"
      ],
      "metadata": {
        "colab": {
          "base_uri": "https://localhost:8080/"
        },
        "id": "EJg3aZ86l458",
        "outputId": "491aeb42-d744-49ef-e4df-33f9098d7ce6"
      },
      "execution_count": 35,
      "outputs": [
        {
          "output_type": "execute_result",
          "data": {
            "text/plain": [
              "{1, 2, 3, 4, 5, 6, 7, 8}"
            ]
          },
          "metadata": {},
          "execution_count": 35
        }
      ]
    },
    {
      "cell_type": "code",
      "source": [
        "s1,s2={1,2,3,4},{5,2,7,8}\n",
        "s1.intersection(s2)"
      ],
      "metadata": {
        "colab": {
          "base_uri": "https://localhost:8080/"
        },
        "id": "_oLpwOf5mMBn",
        "outputId": "ab33eb8d-753e-48fd-c2da-cb2ea7f56f31"
      },
      "execution_count": 38,
      "outputs": [
        {
          "output_type": "execute_result",
          "data": {
            "text/plain": [
              "{2}"
            ]
          },
          "metadata": {},
          "execution_count": 38
        }
      ]
    },
    {
      "cell_type": "code",
      "source": [
        "#Datascience\n",
        "#1.Numpy\n",
        "#2.Pandas\n",
        "#3. Matplotlib or seaborn"
      ],
      "metadata": {
        "id": "xho6qpBBmP45"
      },
      "execution_count": 39,
      "outputs": []
    },
    {
      "cell_type": "code",
      "source": [
        "#Numpy-->it involves in statistics,mathematics,analyze and interpret complex data sets\n",
        "#Numpy is a fundamental package for multi dimensional arrays and matrices.\n",
        "#list-->storing different data types\n",
        "#numpy-->storing only single data type\n",
        "#numpy is mainly dealing with arrays"
      ],
      "metadata": {
        "id": "su1tRo0omuSM"
      },
      "execution_count": 40,
      "outputs": []
    },
    {
      "cell_type": "code",
      "source": [
        "#Key features in numpy:\n",
        "#1. it is similar to list and it is storing one data type and it is faster and memeory efficient\n",
        "#2. it will allows you to perform element wise operations on arrays without explicitly writing loops\n",
        "#3. using numpy we can do trigonometry,linear algebra\n",
        "#4."
      ],
      "metadata": {
        "id": "vkLYF4g2nUSa"
      },
      "execution_count": 41,
      "outputs": []
    },
    {
      "cell_type": "code",
      "source": [
        "pip install numpy"
      ],
      "metadata": {
        "colab": {
          "base_uri": "https://localhost:8080/"
        },
        "id": "HgYkQWSKn3VS",
        "outputId": "d37a1088-f47c-4437-d2d5-4b6972f4dfb4"
      },
      "execution_count": 42,
      "outputs": [
        {
          "output_type": "stream",
          "name": "stdout",
          "text": [
            "Requirement already satisfied: numpy in /usr/local/lib/python3.10/dist-packages (1.25.2)\n"
          ]
        }
      ]
    },
    {
      "cell_type": "code",
      "source": [
        "import numpy as np"
      ],
      "metadata": {
        "id": "DmN8Pk8tn70Y"
      },
      "execution_count": 43,
      "outputs": []
    },
    {
      "cell_type": "code",
      "source": [
        "a=np.array([1,2,3,4,5])\n",
        "a"
      ],
      "metadata": {
        "colab": {
          "base_uri": "https://localhost:8080/"
        },
        "id": "_JTZTr_toNY5",
        "outputId": "e25b666c-b088-4b83-fb9f-c3f26297a29e"
      },
      "execution_count": 46,
      "outputs": [
        {
          "output_type": "execute_result",
          "data": {
            "text/plain": [
              "array([1, 2, 3, 4, 5])"
            ]
          },
          "metadata": {},
          "execution_count": 46
        }
      ]
    },
    {
      "cell_type": "code",
      "source": [
        "type(a)"
      ],
      "metadata": {
        "colab": {
          "base_uri": "https://localhost:8080/"
        },
        "id": "TtOObVpuoVFg",
        "outputId": "1b80d5b1-6427-4cba-a124-5db91bf172a7"
      },
      "execution_count": 47,
      "outputs": [
        {
          "output_type": "execute_result",
          "data": {
            "text/plain": [
              "numpy.ndarray"
            ]
          },
          "metadata": {},
          "execution_count": 47
        }
      ]
    },
    {
      "cell_type": "code",
      "source": [
        "a.ndim"
      ],
      "metadata": {
        "colab": {
          "base_uri": "https://localhost:8080/"
        },
        "id": "B1JTcjxVoZ1K",
        "outputId": "d282a889-a5aa-4eb7-f388-5ed87a1f15e2"
      },
      "execution_count": 48,
      "outputs": [
        {
          "output_type": "execute_result",
          "data": {
            "text/plain": [
              "1"
            ]
          },
          "metadata": {},
          "execution_count": 48
        }
      ]
    },
    {
      "cell_type": "code",
      "source": [
        "a.size"
      ],
      "metadata": {
        "colab": {
          "base_uri": "https://localhost:8080/"
        },
        "id": "LBrn7YUnoidb",
        "outputId": "3643833b-a12d-4fed-faf0-3f40b52793c4"
      },
      "execution_count": 49,
      "outputs": [
        {
          "output_type": "execute_result",
          "data": {
            "text/plain": [
              "5"
            ]
          },
          "metadata": {},
          "execution_count": 49
        }
      ]
    },
    {
      "cell_type": "code",
      "source": [
        "a[0]"
      ],
      "metadata": {
        "colab": {
          "base_uri": "https://localhost:8080/"
        },
        "id": "If0bEHIjolzl",
        "outputId": "227703fe-9a67-4772-ea76-2c4a4e3d842d"
      },
      "execution_count": 50,
      "outputs": [
        {
          "output_type": "execute_result",
          "data": {
            "text/plain": [
              "1"
            ]
          },
          "metadata": {},
          "execution_count": 50
        }
      ]
    },
    {
      "cell_type": "code",
      "source": [
        "a[-1]"
      ],
      "metadata": {
        "colab": {
          "base_uri": "https://localhost:8080/"
        },
        "id": "nvtEshdKosO3",
        "outputId": "a8f603bf-2822-4fde-f9d8-f8fe7804b53c"
      },
      "execution_count": 51,
      "outputs": [
        {
          "output_type": "execute_result",
          "data": {
            "text/plain": [
              "5"
            ]
          },
          "metadata": {},
          "execution_count": 51
        }
      ]
    },
    {
      "cell_type": "code",
      "source": [
        "a"
      ],
      "metadata": {
        "colab": {
          "base_uri": "https://localhost:8080/"
        },
        "id": "Ns6IAA6SozBB",
        "outputId": "3ed38d8f-3360-4c3a-a2a6-f3a7ea887254"
      },
      "execution_count": 52,
      "outputs": [
        {
          "output_type": "execute_result",
          "data": {
            "text/plain": [
              "array([1, 2, 3, 4, 5])"
            ]
          },
          "metadata": {},
          "execution_count": 52
        }
      ]
    },
    {
      "cell_type": "code",
      "source": [
        "a=np.array([1,2,3,4,5],dtype=float)"
      ],
      "metadata": {
        "id": "ErB_MSclpa_O"
      },
      "execution_count": 53,
      "outputs": []
    },
    {
      "cell_type": "code",
      "source": [
        "a"
      ],
      "metadata": {
        "colab": {
          "base_uri": "https://localhost:8080/"
        },
        "id": "SPsZjmzIplQI",
        "outputId": "b2811c82-3e05-4bb0-ee4e-01cf3b3f5667"
      },
      "execution_count": 54,
      "outputs": [
        {
          "output_type": "execute_result",
          "data": {
            "text/plain": [
              "array([1., 2., 3., 4., 5.])"
            ]
          },
          "metadata": {},
          "execution_count": 54
        }
      ]
    },
    {
      "cell_type": "code",
      "source": [
        "type(a)"
      ],
      "metadata": {
        "colab": {
          "base_uri": "https://localhost:8080/"
        },
        "id": "8xcs9Vv1pm3n",
        "outputId": "439d764b-6b18-4aa2-c611-f41fa6f6df42"
      },
      "execution_count": 55,
      "outputs": [
        {
          "output_type": "execute_result",
          "data": {
            "text/plain": [
              "numpy.ndarray"
            ]
          },
          "metadata": {},
          "execution_count": 55
        }
      ]
    },
    {
      "cell_type": "code",
      "source": [
        "a=np.array([1,2,3,\"sai\"],dtype=int)"
      ],
      "metadata": {
        "colab": {
          "base_uri": "https://localhost:8080/",
          "height": 141
        },
        "id": "E0hTFdcMpqll",
        "outputId": "b888292c-add5-44ce-8198-b9753226a7f2"
      },
      "execution_count": 56,
      "outputs": [
        {
          "output_type": "error",
          "ename": "ValueError",
          "evalue": "invalid literal for int() with base 10: 'sai'",
          "traceback": [
            "\u001b[0;31m---------------------------------------------------------------------------\u001b[0m",
            "\u001b[0;31mValueError\u001b[0m                                Traceback (most recent call last)",
            "\u001b[0;32m<ipython-input-56-5d0817bb62a0>\u001b[0m in \u001b[0;36m<cell line: 1>\u001b[0;34m()\u001b[0m\n\u001b[0;32m----> 1\u001b[0;31m \u001b[0ma\u001b[0m\u001b[0;34m=\u001b[0m\u001b[0mnp\u001b[0m\u001b[0;34m.\u001b[0m\u001b[0marray\u001b[0m\u001b[0;34m(\u001b[0m\u001b[0;34m[\u001b[0m\u001b[0;36m1\u001b[0m\u001b[0;34m,\u001b[0m\u001b[0;36m2\u001b[0m\u001b[0;34m,\u001b[0m\u001b[0;36m3\u001b[0m\u001b[0;34m,\u001b[0m\u001b[0;34m\"sai\"\u001b[0m\u001b[0;34m]\u001b[0m\u001b[0;34m,\u001b[0m\u001b[0mdtype\u001b[0m\u001b[0;34m=\u001b[0m\u001b[0mint\u001b[0m\u001b[0;34m)\u001b[0m\u001b[0;34m\u001b[0m\u001b[0;34m\u001b[0m\u001b[0m\n\u001b[0m",
            "\u001b[0;31mValueError\u001b[0m: invalid literal for int() with base 10: 'sai'"
          ]
        }
      ]
    },
    {
      "cell_type": "code",
      "source": [
        "#range(1,10)\n",
        "a=np.arange(0,11,2)\n",
        "a"
      ],
      "metadata": {
        "colab": {
          "base_uri": "https://localhost:8080/"
        },
        "id": "HaoDCyO7p6ks",
        "outputId": "08de69da-a1ad-442d-aeae-c30379dc4ffa"
      },
      "execution_count": 59,
      "outputs": [
        {
          "output_type": "execute_result",
          "data": {
            "text/plain": [
              "array([ 0,  2,  4,  6,  8, 10])"
            ]
          },
          "metadata": {},
          "execution_count": 59
        }
      ]
    },
    {
      "cell_type": "code",
      "source": [
        "a=np.arange(5,100,0.6)\n",
        "a"
      ],
      "metadata": {
        "colab": {
          "base_uri": "https://localhost:8080/"
        },
        "id": "ieuCqHkXqF6X",
        "outputId": "1eea8578-cfd7-489b-9d9c-0be3a05934e3"
      },
      "execution_count": 61,
      "outputs": [
        {
          "output_type": "execute_result",
          "data": {
            "text/plain": [
              "array([ 5. ,  5.6,  6.2,  6.8,  7.4,  8. ,  8.6,  9.2,  9.8, 10.4, 11. ,\n",
              "       11.6, 12.2, 12.8, 13.4, 14. , 14.6, 15.2, 15.8, 16.4, 17. , 17.6,\n",
              "       18.2, 18.8, 19.4, 20. , 20.6, 21.2, 21.8, 22.4, 23. , 23.6, 24.2,\n",
              "       24.8, 25.4, 26. , 26.6, 27.2, 27.8, 28.4, 29. , 29.6, 30.2, 30.8,\n",
              "       31.4, 32. , 32.6, 33.2, 33.8, 34.4, 35. , 35.6, 36.2, 36.8, 37.4,\n",
              "       38. , 38.6, 39.2, 39.8, 40.4, 41. , 41.6, 42.2, 42.8, 43.4, 44. ,\n",
              "       44.6, 45.2, 45.8, 46.4, 47. , 47.6, 48.2, 48.8, 49.4, 50. , 50.6,\n",
              "       51.2, 51.8, 52.4, 53. , 53.6, 54.2, 54.8, 55.4, 56. , 56.6, 57.2,\n",
              "       57.8, 58.4, 59. , 59.6, 60.2, 60.8, 61.4, 62. , 62.6, 63.2, 63.8,\n",
              "       64.4, 65. , 65.6, 66.2, 66.8, 67.4, 68. , 68.6, 69.2, 69.8, 70.4,\n",
              "       71. , 71.6, 72.2, 72.8, 73.4, 74. , 74.6, 75.2, 75.8, 76.4, 77. ,\n",
              "       77.6, 78.2, 78.8, 79.4, 80. , 80.6, 81.2, 81.8, 82.4, 83. , 83.6,\n",
              "       84.2, 84.8, 85.4, 86. , 86.6, 87.2, 87.8, 88.4, 89. , 89.6, 90.2,\n",
              "       90.8, 91.4, 92. , 92.6, 93.2, 93.8, 94.4, 95. , 95.6, 96.2, 96.8,\n",
              "       97.4, 98. , 98.6, 99.2, 99.8])"
            ]
          },
          "metadata": {},
          "execution_count": 61
        }
      ]
    },
    {
      "cell_type": "code",
      "source": [
        "#linspace\n",
        "a=np.linspace(2,5,7)\n",
        "#2 is starting value and 5 is the ending value and 7 is the number of elements inside the array\n",
        "a"
      ],
      "metadata": {
        "colab": {
          "base_uri": "https://localhost:8080/"
        },
        "id": "WmAjbl93qY13",
        "outputId": "11310181-9771-4eac-c54f-cefa1359d20f"
      },
      "execution_count": 62,
      "outputs": [
        {
          "output_type": "execute_result",
          "data": {
            "text/plain": [
              "array([2. , 2.5, 3. , 3.5, 4. , 4.5, 5. ])"
            ]
          },
          "metadata": {},
          "execution_count": 62
        }
      ]
    },
    {
      "cell_type": "code",
      "source": [
        "a=np.linspace(2,5,70)\n",
        "a"
      ],
      "metadata": {
        "colab": {
          "base_uri": "https://localhost:8080/"
        },
        "id": "vS91_bYtql6y",
        "outputId": "3ce214a6-47a1-4b73-f9ad-4553b4a3d5f5"
      },
      "execution_count": 63,
      "outputs": [
        {
          "output_type": "execute_result",
          "data": {
            "text/plain": [
              "array([2.        , 2.04347826, 2.08695652, 2.13043478, 2.17391304,\n",
              "       2.2173913 , 2.26086957, 2.30434783, 2.34782609, 2.39130435,\n",
              "       2.43478261, 2.47826087, 2.52173913, 2.56521739, 2.60869565,\n",
              "       2.65217391, 2.69565217, 2.73913043, 2.7826087 , 2.82608696,\n",
              "       2.86956522, 2.91304348, 2.95652174, 3.        , 3.04347826,\n",
              "       3.08695652, 3.13043478, 3.17391304, 3.2173913 , 3.26086957,\n",
              "       3.30434783, 3.34782609, 3.39130435, 3.43478261, 3.47826087,\n",
              "       3.52173913, 3.56521739, 3.60869565, 3.65217391, 3.69565217,\n",
              "       3.73913043, 3.7826087 , 3.82608696, 3.86956522, 3.91304348,\n",
              "       3.95652174, 4.        , 4.04347826, 4.08695652, 4.13043478,\n",
              "       4.17391304, 4.2173913 , 4.26086957, 4.30434783, 4.34782609,\n",
              "       4.39130435, 4.43478261, 4.47826087, 4.52173913, 4.56521739,\n",
              "       4.60869565, 4.65217391, 4.69565217, 4.73913043, 4.7826087 ,\n",
              "       4.82608696, 4.86956522, 4.91304348, 4.95652174, 5.        ])"
            ]
          },
          "metadata": {},
          "execution_count": 63
        }
      ]
    },
    {
      "cell_type": "code",
      "source": [
        "#logspace\n",
        "a=np.logspace(2,5,3)\n",
        "#log(2) is starting value and log(5) is the ending value and 3 is the number of elements inside the array\n",
        "a"
      ],
      "metadata": {
        "colab": {
          "base_uri": "https://localhost:8080/"
        },
        "id": "ElbVk-HdqzyH",
        "outputId": "0d2c793d-e72c-4a81-ba06-636d7a6a1ec4"
      },
      "execution_count": 64,
      "outputs": [
        {
          "output_type": "execute_result",
          "data": {
            "text/plain": [
              "array([   100.        ,   3162.27766017, 100000.        ])"
            ]
          },
          "metadata": {},
          "execution_count": 64
        }
      ]
    },
    {
      "cell_type": "code",
      "source": [
        "#zeros\n",
        "a=np.zeros(5)\n",
        "#by default it is float type n number of zeros it will display\n",
        "a"
      ],
      "metadata": {
        "colab": {
          "base_uri": "https://localhost:8080/"
        },
        "id": "RSkvoczzrJy-",
        "outputId": "ab107ed6-3dc6-400f-c0fb-d86addc7f538"
      },
      "execution_count": 65,
      "outputs": [
        {
          "output_type": "execute_result",
          "data": {
            "text/plain": [
              "array([0., 0., 0., 0., 0.])"
            ]
          },
          "metadata": {},
          "execution_count": 65
        }
      ]
    },
    {
      "cell_type": "code",
      "source": [
        "a=np.zeros(5,dtype=int)\n",
        "a"
      ],
      "metadata": {
        "colab": {
          "base_uri": "https://localhost:8080/"
        },
        "id": "d6mA0255rZhl",
        "outputId": "219829cb-7ae4-4803-cead-e7f8306c4321"
      },
      "execution_count": 67,
      "outputs": [
        {
          "output_type": "execute_result",
          "data": {
            "text/plain": [
              "array([0, 0, 0, 0, 0])"
            ]
          },
          "metadata": {},
          "execution_count": 67
        }
      ]
    },
    {
      "cell_type": "code",
      "source": [
        "a=np.random.randint(4,100)\n",
        "a"
      ],
      "metadata": {
        "colab": {
          "base_uri": "https://localhost:8080/"
        },
        "id": "zaDlahG4r2OO",
        "outputId": "e1a666fd-752f-47c6-e0f1-90b4bf481f8e"
      },
      "execution_count": 72,
      "outputs": [
        {
          "output_type": "execute_result",
          "data": {
            "text/plain": [
              "99"
            ]
          },
          "metadata": {},
          "execution_count": 72
        }
      ]
    },
    {
      "cell_type": "code",
      "source": [
        "a=np.random.randint(0,100,50)\n",
        "a"
      ],
      "metadata": {
        "colab": {
          "base_uri": "https://localhost:8080/"
        },
        "id": "fAFiWya0sC3z",
        "outputId": "5ce642ff-4908-4c08-d6e9-c4a1d0626485"
      },
      "execution_count": 74,
      "outputs": [
        {
          "output_type": "execute_result",
          "data": {
            "text/plain": [
              "array([ 4, 43, 46, 58, 66, 86, 76, 28, 70, 68, 51, 98, 23, 51,  3, 33, 81,\n",
              "        2, 29, 26, 50,  4, 64, 37, 54,  7, 49, 47, 82, 42, 56, 24, 10, 90,\n",
              "       76, 68, 31, 67, 11,  2, 32,  9, 12, 32, 25,  5, 15, 86, 32,  1])"
            ]
          },
          "metadata": {},
          "execution_count": 74
        }
      ]
    },
    {
      "cell_type": "code",
      "source": [
        "a=np.random.rand(5)\n",
        "#it will generate random elements from 0\n",
        "a"
      ],
      "metadata": {
        "colab": {
          "base_uri": "https://localhost:8080/"
        },
        "id": "vdqf1O4JsRwq",
        "outputId": "57e26561-315b-40bb-dc29-216681ecd26b"
      },
      "execution_count": 75,
      "outputs": [
        {
          "output_type": "execute_result",
          "data": {
            "text/plain": [
              "array([0.26872158, 0.41378531, 0.14148328, 0.2439885 , 0.20103355])"
            ]
          },
          "metadata": {},
          "execution_count": 75
        }
      ]
    },
    {
      "cell_type": "code",
      "source": [
        "#collection of 1d array is 2d array"
      ],
      "metadata": {
        "id": "QJ2OMx9CtQnq"
      },
      "execution_count": 76,
      "outputs": []
    },
    {
      "cell_type": "code",
      "source": [
        "a=np.array([[1,2,3,4,5],[6,7,8,9,10]])\n",
        "a"
      ],
      "metadata": {
        "colab": {
          "base_uri": "https://localhost:8080/"
        },
        "id": "cOChW7r7tY-P",
        "outputId": "16c0a3fc-1ced-4527-9675-f4de55a5b7af"
      },
      "execution_count": 78,
      "outputs": [
        {
          "output_type": "execute_result",
          "data": {
            "text/plain": [
              "array([[ 1,  2,  3,  4,  5],\n",
              "       [ 6,  7,  8,  9, 10]])"
            ]
          },
          "metadata": {},
          "execution_count": 78
        }
      ]
    },
    {
      "cell_type": "code",
      "source": [
        "type(a)"
      ],
      "metadata": {
        "colab": {
          "base_uri": "https://localhost:8080/"
        },
        "id": "Ouay4RJ0tet7",
        "outputId": "d3720456-cdf6-4c13-d597-36f95d843647"
      },
      "execution_count": 79,
      "outputs": [
        {
          "output_type": "execute_result",
          "data": {
            "text/plain": [
              "numpy.ndarray"
            ]
          },
          "metadata": {},
          "execution_count": 79
        }
      ]
    },
    {
      "cell_type": "code",
      "source": [
        "a.ndim"
      ],
      "metadata": {
        "colab": {
          "base_uri": "https://localhost:8080/"
        },
        "id": "YX_RFe3Ltmf_",
        "outputId": "f87722ca-309e-44ea-f6f6-33676131b0bb"
      },
      "execution_count": 80,
      "outputs": [
        {
          "output_type": "execute_result",
          "data": {
            "text/plain": [
              "2"
            ]
          },
          "metadata": {},
          "execution_count": 80
        }
      ]
    },
    {
      "cell_type": "code",
      "source": [
        "a[0][1]"
      ],
      "metadata": {
        "colab": {
          "base_uri": "https://localhost:8080/"
        },
        "id": "L4NTzlditqz1",
        "outputId": "baf69514-e25f-4e4b-9076-67808fc93d48"
      },
      "execution_count": 81,
      "outputs": [
        {
          "output_type": "execute_result",
          "data": {
            "text/plain": [
              "2"
            ]
          },
          "metadata": {},
          "execution_count": 81
        }
      ]
    },
    {
      "cell_type": "code",
      "source": [
        "a[1][1]"
      ],
      "metadata": {
        "colab": {
          "base_uri": "https://localhost:8080/"
        },
        "id": "xjb7Ch3DtvEr",
        "outputId": "7cd0de3c-d3d0-4902-d069-59db34053ad2"
      },
      "execution_count": 82,
      "outputs": [
        {
          "output_type": "execute_result",
          "data": {
            "text/plain": [
              "7"
            ]
          },
          "metadata": {},
          "execution_count": 82
        }
      ]
    },
    {
      "cell_type": "code",
      "source": [
        "[1,2,3,4,5],[6,7,8,9,10],[11,12,13,14,15]\n",
        "a[0][2]\n",
        "a[1][2]\n",
        "a[2]"
      ],
      "metadata": {
        "id": "QZV5-XY5t2Aa"
      },
      "execution_count": null,
      "outputs": []
    },
    {
      "cell_type": "code",
      "source": [
        "a=np.array([[1,2,3,4,5],[6,7,8,9,10]])\n",
        "a"
      ],
      "metadata": {
        "colab": {
          "base_uri": "https://localhost:8080/"
        },
        "id": "SWcyCRrDuWJT",
        "outputId": "a7b006a8-e915-441c-a4f4-3355f95313e5"
      },
      "execution_count": 84,
      "outputs": [
        {
          "output_type": "execute_result",
          "data": {
            "text/plain": [
              "array([[ 1,  2,  3,  4,  5],\n",
              "       [ 6,  7,  8,  9, 10]])"
            ]
          },
          "metadata": {},
          "execution_count": 84
        }
      ]
    },
    {
      "cell_type": "code",
      "source": [
        "#reshape\n",
        "a=np.arange(30)\n",
        "a\n",
        "# a.reshape(5,6)"
      ],
      "metadata": {
        "colab": {
          "base_uri": "https://localhost:8080/"
        },
        "id": "hmXnAjm9ubdO",
        "outputId": "8559fe70-f203-4bc8-abda-1279f511a310"
      },
      "execution_count": 90,
      "outputs": [
        {
          "output_type": "execute_result",
          "data": {
            "text/plain": [
              "array([ 0,  1,  2,  3,  4,  5,  6,  7,  8,  9, 10, 11, 12, 13, 14, 15, 16,\n",
              "       17, 18, 19, 20, 21, 22, 23, 24, 25, 26, 27, 28, 29])"
            ]
          },
          "metadata": {},
          "execution_count": 90
        }
      ]
    },
    {
      "cell_type": "code",
      "source": [
        "a.reshape(4,7)"
      ],
      "metadata": {
        "colab": {
          "base_uri": "https://localhost:8080/",
          "height": 141
        },
        "id": "OmvGdOdXuow8",
        "outputId": "20238e81-4460-40d4-8d6d-ba85ecf3105f"
      },
      "execution_count": 92,
      "outputs": [
        {
          "output_type": "error",
          "ename": "ValueError",
          "evalue": "cannot reshape array of size 30 into shape (4,7)",
          "traceback": [
            "\u001b[0;31m---------------------------------------------------------------------------\u001b[0m",
            "\u001b[0;31mValueError\u001b[0m                                Traceback (most recent call last)",
            "\u001b[0;32m<ipython-input-92-3693527b6ba4>\u001b[0m in \u001b[0;36m<cell line: 1>\u001b[0;34m()\u001b[0m\n\u001b[0;32m----> 1\u001b[0;31m \u001b[0ma\u001b[0m\u001b[0;34m.\u001b[0m\u001b[0mreshape\u001b[0m\u001b[0;34m(\u001b[0m\u001b[0;36m4\u001b[0m\u001b[0;34m,\u001b[0m\u001b[0;36m7\u001b[0m\u001b[0;34m)\u001b[0m\u001b[0;34m\u001b[0m\u001b[0;34m\u001b[0m\u001b[0m\n\u001b[0m",
            "\u001b[0;31mValueError\u001b[0m: cannot reshape array of size 30 into shape (4,7)"
          ]
        }
      ]
    },
    {
      "cell_type": "code",
      "source": [
        "a.reshape(3,10)"
      ],
      "metadata": {
        "colab": {
          "base_uri": "https://localhost:8080/"
        },
        "id": "kyXJC7fNu6o8",
        "outputId": "54586fb0-8ad2-4eb5-a325-5f224bcc64f3"
      },
      "execution_count": 93,
      "outputs": [
        {
          "output_type": "execute_result",
          "data": {
            "text/plain": [
              "array([[ 0,  1,  2,  3,  4,  5,  6,  7,  8,  9],\n",
              "       [10, 11, 12, 13, 14, 15, 16, 17, 18, 19],\n",
              "       [20, 21, 22, 23, 24, 25, 26, 27, 28, 29]])"
            ]
          },
          "metadata": {},
          "execution_count": 93
        }
      ]
    },
    {
      "cell_type": "code",
      "source": [
        "a=np.random.randint(45,size=20).reshape(4,5)\n",
        "a"
      ],
      "metadata": {
        "colab": {
          "base_uri": "https://localhost:8080/"
        },
        "id": "7X91PW8uvJCD",
        "outputId": "94360ed0-d7d2-4024-cbe4-96d6f0e610db"
      },
      "execution_count": 94,
      "outputs": [
        {
          "output_type": "execute_result",
          "data": {
            "text/plain": [
              "array([[ 9, 34, 16, 33, 24],\n",
              "       [22,  3, 15,  5, 21],\n",
              "       [17, 29, 41, 42, 23],\n",
              "       [22, 14,  3, 16, 22]])"
            ]
          },
          "metadata": {},
          "execution_count": 94
        }
      ]
    },
    {
      "cell_type": "code",
      "source": [
        "a.reshape(5,4)"
      ],
      "metadata": {
        "colab": {
          "base_uri": "https://localhost:8080/"
        },
        "id": "sczwg_OUvXLX",
        "outputId": "f2857b67-41c2-45b8-c271-f161aaead9d2"
      },
      "execution_count": 95,
      "outputs": [
        {
          "output_type": "execute_result",
          "data": {
            "text/plain": [
              "array([[ 9, 34, 16, 33],\n",
              "       [24, 22,  3, 15],\n",
              "       [ 5, 21, 17, 29],\n",
              "       [41, 42, 23, 22],\n",
              "       [14,  3, 16, 22]])"
            ]
          },
          "metadata": {},
          "execution_count": 95
        }
      ]
    },
    {
      "cell_type": "code",
      "source": [],
      "metadata": {
        "colab": {
          "base_uri": "https://localhost:8080/"
        },
        "id": "Yj8tN6ZUvdYo",
        "outputId": "1d9e7d9d-10fa-45c8-cb1c-ccf52994efab"
      },
      "execution_count": 96,
      "outputs": [
        {
          "output_type": "execute_result",
          "data": {
            "text/plain": [
              "array([[ 3],\n",
              "       [29]])"
            ]
          },
          "metadata": {},
          "execution_count": 96
        }
      ]
    },
    {
      "cell_type": "code",
      "source": [],
      "metadata": {
        "id": "RlJbVoAGvmEd"
      },
      "execution_count": null,
      "outputs": []
    }
  ]
}